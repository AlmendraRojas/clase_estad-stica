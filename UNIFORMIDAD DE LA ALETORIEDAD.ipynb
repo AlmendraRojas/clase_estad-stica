{
 "cells": [
  {
   "cell_type": "code",
   "execution_count": 1,
   "metadata": {},
   "outputs": [
    {
     "data": {
      "text/html": [
       "<ol class=list-inline>\n",
       "\t<li>979.651541309431</li>\n",
       "\t<li>996.38845147565</li>\n",
       "\t<li>918.582347896881</li>\n",
       "\t<li>965.749797178432</li>\n",
       "\t<li>959.798472304828</li>\n",
       "\t<li>983.989783329889</li>\n",
       "\t<li>956.669996818528</li>\n",
       "\t<li>971.141993580386</li>\n",
       "\t<li>977.991130715236</li>\n",
       "\t<li>942.341365828179</li>\n",
       "</ol>\n"
      ],
      "text/latex": [
       "\\begin{enumerate*}\n",
       "\\item 979.651541309431\n",
       "\\item 996.38845147565\n",
       "\\item 918.582347896881\n",
       "\\item 965.749797178432\n",
       "\\item 959.798472304828\n",
       "\\item 983.989783329889\n",
       "\\item 956.669996818528\n",
       "\\item 971.141993580386\n",
       "\\item 977.991130715236\n",
       "\\item 942.341365828179\n",
       "\\end{enumerate*}\n"
      ],
      "text/markdown": [
       "1. 979.651541309431\n",
       "2. 996.38845147565\n",
       "3. 918.582347896881\n",
       "4. 965.749797178432\n",
       "5. 959.798472304828\n",
       "6. 983.989783329889\n",
       "7. 956.669996818528\n",
       "8. 971.141993580386\n",
       "9. 977.991130715236\n",
       "10. 942.341365828179\n",
       "\n",
       "\n"
      ],
      "text/plain": [
       " [1] 979.6515 996.3885 918.5823 965.7498 959.7985 983.9898 956.6700 971.1420\n",
       " [9] 977.9911 942.3414"
      ]
     },
     "metadata": {},
     "output_type": "display_data"
    }
   ],
   "source": [
    "runif(10,900,1000)"
   ]
  },
  {
   "cell_type": "code",
   "execution_count": 2,
   "metadata": {},
   "outputs": [],
   "source": [
    "set.seed(123)"
   ]
  },
  {
   "cell_type": "code",
   "execution_count": 3,
   "metadata": {},
   "outputs": [
    {
     "data": {
      "text/html": [
       "<ol class=list-inline>\n",
       "\t<li>928.757752012461</li>\n",
       "\t<li>978.830513544381</li>\n",
       "\t<li>940.89769218117</li>\n",
       "\t<li>988.301740400493</li>\n",
       "\t<li>994.046728429385</li>\n",
       "\t<li>904.555649938993</li>\n",
       "\t<li>952.8105488047</li>\n",
       "\t<li>989.241904439405</li>\n",
       "\t<li>955.143501446582</li>\n",
       "\t<li>945.661473530345</li>\n",
       "</ol>\n"
      ],
      "text/latex": [
       "\\begin{enumerate*}\n",
       "\\item 928.757752012461\n",
       "\\item 978.830513544381\n",
       "\\item 940.89769218117\n",
       "\\item 988.301740400493\n",
       "\\item 994.046728429385\n",
       "\\item 904.555649938993\n",
       "\\item 952.8105488047\n",
       "\\item 989.241904439405\n",
       "\\item 955.143501446582\n",
       "\\item 945.661473530345\n",
       "\\end{enumerate*}\n"
      ],
      "text/markdown": [
       "1. 928.757752012461\n",
       "2. 978.830513544381\n",
       "3. 940.89769218117\n",
       "4. 988.301740400493\n",
       "5. 994.046728429385\n",
       "6. 904.555649938993\n",
       "7. 952.8105488047\n",
       "8. 989.241904439405\n",
       "9. 955.143501446582\n",
       "10. 945.661473530345\n",
       "\n",
       "\n"
      ],
      "text/plain": [
       " [1] 928.7578 978.8305 940.8977 988.3017 994.0467 904.5556 952.8105 989.2419\n",
       " [9] 955.1435 945.6615"
      ]
     },
     "metadata": {},
     "output_type": "display_data"
    }
   ],
   "source": [
    "runif(10,900,1000)"
   ]
  },
  {
   "cell_type": "markdown",
   "metadata": {},
   "source": [
    "A través del set.seed fijamos la semilla aleatoria. "
   ]
  },
  {
   "cell_type": "code",
   "execution_count": 8,
   "metadata": {},
   "outputs": [],
   "source": [
    "x <- c(0.00096264341890935,0.179147941609448,0.939454629989087,0.413966226584262,0.530370201696814,0.931979918355113,0.786487794381794,0.500360174803231,0.553457917903298,0.967226200721798,0.170755531252714,0.888213764358411,0.20873757182096,0.252369594877758,0.575781110476601,0.153123780224996,0.551374241500801,0.946876903971134,0.160125042852073,0.221595214783026,0.350774858310248,0.473043620341012,0.444127071389988,0.443688851522137,0.0785275325544772,0.812239643098898,0.311681563179792,0.432032362759128,0.167920892670714,0.246443116686513)"
   ]
  },
  {
   "cell_type": "code",
   "execution_count": 9,
   "metadata": {},
   "outputs": [
    {
     "data": {
      "image/png": "[encoded data removed]",
      "text/plain": [
       "Plot with title \"Histogram of x\""
      ]
     },
     "metadata": {},
     "output_type": "display_data"
    }
   ],
   "source": [
    "hist(x)"
   ]
  }
 ],
 "metadata": {
  "kernelspec": {
   "display_name": "R",
   "language": "R",
   "name": "ir"
  },
  "language_info": {
   "codemirror_mode": "r",
   "file_extension": ".r",
   "mimetype": "text/x-r-source",
   "name": "R",
   "pygments_lexer": "r",
   "version": "3.6.1"
  }
 },
 "nbformat": 4,
 "nbformat_minor": 2
}
